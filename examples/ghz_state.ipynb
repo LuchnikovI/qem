{
 "cells": [
  {
   "cell_type": "markdown",
   "metadata": {},
   "source": [
    "First, let us create a quantum state with all qubits in `0` state"
   ]
  },
  {
   "cell_type": "code",
   "execution_count": null,
   "metadata": {},
   "outputs": [],
   "source": [
    "import numpy as np\n",
    "from qem import QuantumState\n",
    "\n",
    "qubits_number = 20\n",
    "state = QuantumState(qubits_number)\n",
    "state"
   ]
  },
  {
   "cell_type": "markdown",
   "metadata": {},
   "source": [
    "Let us now apply a sequence of gates leading to the GHZ state"
   ]
  },
  {
   "cell_type": "code",
   "execution_count": null,
   "metadata": {},
   "outputs": [],
   "source": [
    "hadamard = (1. / np.sqrt(2.)) * np.array([\n",
    "    1, 1,\n",
    "    1, -1,\n",
    "], dtype=np.complex128).reshape((2, 2))\n",
    "cnot = np.array([\n",
    "    1, 0, 0, 0,\n",
    "    0, 1, 0, 0,\n",
    "    0, 0, 0, 1,\n",
    "    0, 0, 1, 0,\n",
    "], dtype=np.complex128).reshape((2, 2, 2, 2))\n",
    "state.apply1(0, hadamard)\n",
    "for i in range(qubits_number - 1):\n",
    "    state.apply2(i, i + 1, cnot)\n",
    "state"
   ]
  },
  {
   "cell_type": "markdown",
   "metadata": {},
   "source": [
    "Let us compute all one-qubit density matrices"
   ]
  },
  {
   "cell_type": "code",
   "execution_count": null,
   "metadata": {},
   "outputs": [],
   "source": [
    "for i in range(qubits_number):\n",
    "    print(state.dens1(i))"
   ]
  },
  {
   "cell_type": "markdown",
   "metadata": {},
   "source": [
    "Let us measure each qubit"
   ]
  },
  {
   "cell_type": "code",
   "execution_count": null,
   "metadata": {},
   "outputs": [],
   "source": [
    "for i in range(qubits_number):\n",
    "    uniform_sample = np.random.uniform(size=(1,))\n",
    "    print(state.measure(i, uniform_sample))"
   ]
  },
  {
   "cell_type": "markdown",
   "metadata": {},
   "source": [
    "Let us reset all qubits back to the initial state"
   ]
  },
  {
   "cell_type": "code",
   "execution_count": null,
   "metadata": {},
   "outputs": [],
   "source": [
    "state.total_reset()\n",
    "state"
   ]
  }
 ],
 "metadata": {
  "kernelspec": {
   "display_name": "venv",
   "language": "python",
   "name": "python3"
  },
  "language_info": {
   "codemirror_mode": {
    "name": "ipython",
    "version": 3
   },
   "file_extension": ".py",
   "mimetype": "text/x-python",
   "name": "python",
   "nbconvert_exporter": "python",
   "pygments_lexer": "ipython3",
   "version": "3.10.12"
  }
 },
 "nbformat": 4,
 "nbformat_minor": 2
}
